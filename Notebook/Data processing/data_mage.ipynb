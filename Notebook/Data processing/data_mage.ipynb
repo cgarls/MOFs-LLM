{
 "cells": [
  {
   "cell_type": "code",
   "execution_count": 32,
   "metadata": {},
   "outputs": [
    {
     "name": "stderr",
     "output_type": "stream",
     "text": [
      "C:\\Users\\Gatsby\\AppData\\Local\\Temp\\ipykernel_17904\\4041893.py:9: FutureWarning: Setting an item of incompatible dtype is deprecated and will raise in a future error of pandas. Value '0            176\n",
      "1            196\n",
      "2            280\n",
      "3            284\n",
      "4            310\n",
      "         ...    \n",
      "446    101553689\n",
      "447        12069\n",
      "448     90964971\n",
      "449        76394\n",
      "450        62481\n",
      "Name: 名称, Length: 451, dtype: object' has dtype incompatible with int64, please explicitly cast to a compatible dtype first.\n",
      "  df_b.iloc[:, 0] = df_b.iloc[:, 0].astype(str).str.strip().fillna('0')\n",
      "C:\\Users\\Gatsby\\AppData\\Local\\Temp\\ipykernel_17904\\4041893.py:22: FutureWarning: Setting an item of incompatible dtype is deprecated and will raise an error in a future version of pandas. Value 'C1=C(C=C(C=C1C(=O)O)C(=O)O)C(=O)O' has dtype incompatible with float64, please explicitly cast to a compatible dtype first.\n",
      "  df_a.iloc[idx] = b_row.iloc[0]\n",
      "C:\\Users\\Gatsby\\AppData\\Local\\Temp\\ipykernel_17904\\4041893.py:22: FutureWarning: Setting an item of incompatible dtype is deprecated and will raise an error in a future version of pandas. Value 'Benzene-1,3,5-tricarboxylic acid is a tricarboxylic acid that consists of benzene substituted by carboxy groups at positions 1, 3 and 5. It is a tricarboxylic acid and a member of benzoic acids. It is a conjugate acid of a benzene-1,3,5-tricarboxylate(1-).' has dtype incompatible with float64, please explicitly cast to a compatible dtype first.\n",
      "  df_a.iloc[idx] = b_row.iloc[0]\n",
      "C:\\Users\\Gatsby\\AppData\\Local\\Temp\\ipykernel_17904\\4041893.py:22: FutureWarning: Setting an item of incompatible dtype is deprecated and will raise an error in a future version of pandas. Value '-' has dtype incompatible with float64, please explicitly cast to a compatible dtype first.\n",
      "  df_a.iloc[idx] = b_row.iloc[0]\n"
     ]
    }
   ],
   "source": [
    "\"\"\"\n",
    "This script performs data merging and updating between two Excel files.\n",
    "It reads data from two Excel files, compares the first column values,\n",
    "and updates rows in the first file with matching rows from the second file.\n",
    "The result is saved to a new Excel file.\n",
    "\"\"\"\n",
    "\n",
    "import pandas as pd\n",
    "\n",
    "# Read Excel files a and b\n",
    "df_a = pd.read_excel(\"data/file1.xlsx\") \n",
    "df_b = pd.read_excel(\"data/file2.xlsx\")\n",
    "\n",
    "# Clean and prepare data - convert first column to string, strip whitespace and fill NaN\n",
    "df_a.iloc[:, 0] = df_a.iloc[:, 0].astype(str).str.strip().fillna('0')\n",
    "df_b.iloc[:, 0] = df_b.iloc[:, 0].astype(str).str.strip().fillna('0')\n",
    "\n",
    "# Convert first column of df_a to list for iteration\n",
    "a_columns = df_a.iloc[:, 0].tolist()\n",
    "\n",
    "# Iterate through first column of df_a\n",
    "for idx, value in enumerate(a_columns):\n",
    "    # Check if value exists in df_b first column\n",
    "    if value in df_b.iloc[:, 0].values:\n",
    "        # Get matching row from df_b\n",
    "        b_row = df_b[df_b.iloc[:, 0] == value]\n",
    "        # Replace row in df_a if exactly one match found\n",
    "        if len(b_row) == 1:\n",
    "            df_a.iloc[idx] = b_row.iloc[0]\n",
    "\n",
    "# Save results to new file\n",
    "df_a.to_excel(\"result.xlsx\", index=False)"
   ]
  },
  {
   "cell_type": "code",
   "execution_count": 18,
   "metadata": {},
   "outputs": [
    {
     "data": {
      "text/plain": [
       "'11138'"
      ]
     },
     "execution_count": 18,
     "metadata": {},
     "output_type": "execute_result"
    }
   ],
   "source": [
    "a_columns[0]"
   ]
  }
 ],
 "metadata": {
  "kernelspec": {
   "display_name": "gpt",
   "language": "python",
   "name": "python3"
  },
  "language_info": {
   "codemirror_mode": {
    "name": "ipython",
    "version": 3
   },
   "file_extension": ".py",
   "mimetype": "text/x-python",
   "name": "python",
   "nbconvert_exporter": "python",
   "pygments_lexer": "ipython3",
   "version": "3.9.0"
  }
 },
 "nbformat": 4,
 "nbformat_minor": 2
}
